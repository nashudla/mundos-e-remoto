{
  "nbformat": 4,
  "nbformat_minor": 0,
  "metadata": {
    "colab": {
      "provenance": [],
      "authorship_tag": "ABX9TyMhZrRhC7OXkUJsIE1NXAcI",
      "include_colab_link": true
    },
    "kernelspec": {
      "name": "python3",
      "display_name": "Python 3"
    },
    "language_info": {
      "name": "python"
    }
  },
  "cells": [
    {
      "cell_type": "markdown",
      "metadata": {
        "id": "view-in-github",
        "colab_type": "text"
      },
      "source": [
        "<a href=\"https://colab.research.google.com/github/nashudla/mundos-e-remoto/blob/main/Actividad_An%C3%A1lisis_predictivo_y_la_regresi%C3%B3n_lineal_II_11012025.ipynb\" target=\"_parent\"><img src=\"https://colab.research.google.com/assets/colab-badge.svg\" alt=\"Open In Colab\"/></a>"
      ]
    },
    {
      "cell_type": "code",
      "execution_count": 1,
      "metadata": {
        "id": "w9ayyoFBK6Bn"
      },
      "outputs": [],
      "source": [
        "import pandas as pd\n",
        "import statsmodels.api as sm\n",
        "from sklearn.model_selection import train_test_split\n",
        "from sklearn.linear_model import LinearRegression\n",
        "from sklearn.metrics import mean_squared_error, r2_score"
      ]
    },
    {
      "cell_type": "code",
      "source": [
        "# Paso 1: Descargar y cargar el archivo CSV\n",
        "url = \"https://raw.githubusercontent.com/lab-ml-itba/Regresion-Lineal/master/alturas-pesos.csv\"\n",
        "data = pd.read_csv(url)"
      ],
      "metadata": {
        "id": "XWR8F8LFQmCc"
      },
      "execution_count": 3,
      "outputs": []
    },
    {
      "cell_type": "code",
      "source": [
        "# Paso 2: Visualizamos el dataset (las primeras filas) para entender su estructura\n",
        "print(\"\\nPrimeras filas del dataframe:\")\n",
        "print(data.head())"
      ],
      "metadata": {
        "colab": {
          "base_uri": "https://localhost:8080/"
        },
        "id": "5Qs8vik9Ql2E",
        "outputId": "6ff5a749-cd02-4357-f9d3-9562d4d1f459"
      },
      "execution_count": 6,
      "outputs": [
        {
          "output_type": "stream",
          "name": "stdout",
          "text": [
            "\n",
            "Primeras filas del dataframe:\n",
            "     Sexo  Peso  Altura\n",
            "0  Hombre   109     187\n",
            "1  Hombre    73     174\n",
            "2  Hombre    96     188\n",
            "3  Hombre    99     182\n",
            "4  Hombre    93     177\n"
          ]
        }
      ]
    },
    {
      "cell_type": "code",
      "source": [
        "# Verificamos información y estadística del dataset\n",
        "print(\"\\nInformación del dataframe:\")\n",
        "print(data.info())\n",
        "\n",
        "print(\"\\nEstadísticas descriptivas del dataframe:\")\n",
        "print(data.describe())"
      ],
      "metadata": {
        "colab": {
          "base_uri": "https://localhost:8080/"
        },
        "id": "u4VOpQlFTvR4",
        "outputId": "a9af0ec6-9f1b-45e7-80a8-5989763bc7e2"
      },
      "execution_count": 9,
      "outputs": [
        {
          "output_type": "stream",
          "name": "stdout",
          "text": [
            "\n",
            "Información del dataframe:\n",
            "<class 'pandas.core.frame.DataFrame'>\n",
            "RangeIndex: 10000 entries, 0 to 9999\n",
            "Data columns (total 3 columns):\n",
            " #   Column  Non-Null Count  Dtype \n",
            "---  ------  --------------  ----- \n",
            " 0   Sexo    10000 non-null  object\n",
            " 1   Peso    10000 non-null  int64 \n",
            " 2   Altura  10000 non-null  int64 \n",
            "dtypes: int64(2), object(1)\n",
            "memory usage: 234.5+ KB\n",
            "None\n",
            "\n",
            "Estadísticas descriptivas del dataframe:\n",
            "               Peso        Altura\n",
            "count  10000.000000  10000.000000\n",
            "mean      72.733900    168.073300\n",
            "std       14.572204      9.775269\n",
            "min       29.000000    137.000000\n",
            "25%       61.000000    161.000000\n",
            "50%       73.000000    168.000000\n",
            "75%       84.000000    175.000000\n",
            "max      122.000000    200.000000\n"
          ]
        }
      ]
    },
    {
      "cell_type": "code",
      "source": [
        "# Variables a usar en el modelo (Altura como predictor y Peso como variable dependiente)\n",
        "X = data[\"Altura\"]  # Variable independiente (predictor)\n",
        "Y = data[\"Peso\"]  # Variable dependiente (respuesta)"
      ],
      "metadata": {
        "id": "bZA-dlruUobP"
      },
      "execution_count": 12,
      "outputs": []
    }
  ]
}